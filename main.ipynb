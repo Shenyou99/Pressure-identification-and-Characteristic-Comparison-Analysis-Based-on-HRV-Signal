{
 "cells": [
  {
   "cell_type": "markdown",
   "id": "c1621c63",
   "metadata": {},
   "source": [
    "\n",
    "# 制作数据的输入和输出"
   ]
  },
  {
   "cell_type": "code",
   "execution_count": 1,
   "id": "9aba89cc",
   "metadata": {},
   "outputs": [],
   "source": [
    "import scipy.io as scio\n",
    "import glob\n",
    "import re\n",
    "import numpy as np\n",
    "\n",
    "\n",
    "traindata=[]\n",
    "label=[]\n",
    "for num in range(3):\n",
    "    xuhao=[]\n",
    "    for i in glob.glob(\"feature_total/\"+str(num)+\"/*\"):\n",
    "        xuhao.append(re.findall(\"\\d+\", i)[-1])\n",
    "    for j in xuhao:\n",
    "        tmp=[]\n",
    "        for fea in [\"hrv_time_feature\",\"hr_freq_feature_ar\"]:\n",
    "             tmppath=\"feature_total/\"+str(num)+\"/\"+fea+j+\".mat\"\n",
    "             tmp.append(scio.loadmat(tmppath)[fea][0])\n",
    "        traindata.append(np.concatenate(tmp,axis=0))\n",
    "        label.append(num)"
   ]
  },
  {
   "cell_type": "code",
   "execution_count": 2,
   "id": "49a45d6d",
   "metadata": {},
   "outputs": [
    {
     "data": {
      "text/plain": [
       "(237, 25)"
      ]
     },
     "execution_count": 2,
     "metadata": {},
     "output_type": "execute_result"
    }
   ],
   "source": [
    "traindata=np.array(traindata)\n",
    "traindata.shape"
   ]
  },
  {
   "cell_type": "markdown",
   "id": "d9590bd7",
   "metadata": {},
   "source": [
    "# 特征筛选选取前n个重要特征"
   ]
  },
  {
   "cell_type": "code",
   "execution_count": 3,
   "id": "49790146",
   "metadata": {},
   "outputs": [],
   "source": [
    "from sklearn.feature_selection import SelectKBest,f_classif \n",
    "selector=SelectKBest(score_func=f_classif,k=18)#假设性检验  得到和标签最相关的n个类别\n",
    "selector.fit(traindata,label)\n",
    "traindata=selector.transform(traindata)"
   ]
  },
  {
   "cell_type": "code",
   "execution_count": 4,
   "id": "7fdb3959",
   "metadata": {},
   "outputs": [
    {
     "data": {
      "text/plain": [
       "(237, 18)"
      ]
     },
     "execution_count": 4,
     "metadata": {},
     "output_type": "execute_result"
    }
   ],
   "source": [
    "traindata.shape"
   ]
  },
  {
   "cell_type": "code",
   "execution_count": 5,
   "id": "5820cd1e",
   "metadata": {},
   "outputs": [
    {
     "data": {
      "text/plain": [
       "array([21.02884248,  8.58899276,  7.12464721,  2.88411659, 10.82979091,\n",
       "        7.36224187,  8.42467129,  0.91370933,  4.79291746, 35.6799691 ,\n",
       "       15.19902926, 10.81059083, 42.0135818 , 23.37551919,  3.46039115,\n",
       "       21.8879894 , 15.46973222, 12.45095505,  1.07356026,  0.7549706 ,\n",
       "       12.71866316,  7.9170024 , 10.24809455, 11.74097236,  1.22562573])"
      ]
     },
     "execution_count": 5,
     "metadata": {},
     "output_type": "execute_result"
    }
   ],
   "source": [
    "selector.scores_"
   ]
  },
  {
   "cell_type": "code",
   "execution_count": 6,
   "id": "828f9e09",
   "metadata": {},
   "outputs": [
    {
     "data": {
      "text/plain": [
       "array([3.99276589e-09, 2.51426630e-04, 9.91645967e-04, 5.78939370e-02,\n",
       "       3.17535754e-05, 7.92841473e-04, 2.93047593e-04, 4.02459827e-01,\n",
       "       9.11943365e-03, 2.98706319e-14, 6.22355723e-07, 3.23165698e-05,\n",
       "       2.57005287e-16, 5.55462682e-10, 3.30343942e-02, 1.93186594e-09,\n",
       "       4.89887989e-07, 7.26826138e-06, 3.43466795e-01, 4.71165808e-01,\n",
       "       5.70765219e-06, 4.71003358e-04, 5.41433536e-05, 1.38319045e-05,\n",
       "       2.95451456e-01])"
      ]
     },
     "execution_count": 6,
     "metadata": {},
     "output_type": "execute_result"
    }
   ],
   "source": [
    "selector.pvalues_"
   ]
  },
  {
   "cell_type": "code",
   "execution_count": null,
   "id": "218ce319",
   "metadata": {},
   "outputs": [],
   "source": []
  },
  {
   "cell_type": "code",
   "execution_count": 7,
   "id": "6fcbec21",
   "metadata": {},
   "outputs": [],
   "source": [
    "from sklearn.model_selection import train_test_split\n",
    "X_train, X_test, y_train, y_test = train_test_split(traindata, label, test_size=0.2, random_state=42)"
   ]
  },
  {
   "cell_type": "code",
   "execution_count": 10,
   "id": "cd3cef08",
   "metadata": {},
   "outputs": [],
   "source": [
    "from sklearn.ensemble import RandomForestClassifier"
   ]
  },
  {
   "cell_type": "markdown",
   "id": "fb320804",
   "metadata": {},
   "source": [
    "# 随机森林"
   ]
  },
  {
   "cell_type": "code",
   "execution_count": 202,
   "id": "3e6da19e",
   "metadata": {},
   "outputs": [
    {
     "name": "stdout",
     "output_type": "stream",
     "text": [
      "              precision    recall  f1-score   support\n",
      "\n",
      "           0     1.0000    1.0000    1.0000        18\n",
      "           1     1.0000    1.0000    1.0000        17\n",
      "           2     1.0000    1.0000    1.0000        13\n",
      "\n",
      "    accuracy                         1.0000        48\n",
      "   macro avg     1.0000    1.0000    1.0000        48\n",
      "weighted avg     1.0000    1.0000    1.0000        48\n",
      "\n",
      "acc: 1.0\n"
     ]
    }
   ],
   "source": [
    "rm=RandomForestClassifier()\n",
    "rm.fit(X_train,y_train)\n",
    "ypred=rm.predict(X_test)\n",
    "from sklearn.metrics import classification_report,accuracy_score\n",
    "print (classification_report(y_test,ypred,digits=4))\n",
    "print (\"acc:\",accuracy_score(y_test,ypred))"
   ]
  },
  {
   "cell_type": "markdown",
   "id": "69a77f38",
   "metadata": {},
   "source": [
    "# svm"
   ]
  },
  {
   "cell_type": "code",
   "execution_count": 7,
   "id": "69aa3967",
   "metadata": {},
   "outputs": [],
   "source": [
    "from sklearn.svm import SVC"
   ]
  },
  {
   "cell_type": "code",
   "execution_count": 11,
   "id": "61d92b14",
   "metadata": {},
   "outputs": [
    {
     "name": "stdout",
     "output_type": "stream",
     "text": [
      "              precision    recall  f1-score   support\n",
      "\n",
      "           0     0.8667    0.7222    0.7879        18\n",
      "           1     0.5517    0.9412    0.6957        17\n",
      "           2     0.7500    0.2308    0.3529        13\n",
      "\n",
      "    accuracy                         0.6667        48\n",
      "   macro avg     0.7228    0.6314    0.6122        48\n",
      "weighted avg     0.7235    0.6667    0.6374        48\n",
      "\n",
      "acc: 0.6666666666666666\n"
     ]
    }
   ],
   "source": [
    "svc=SVC(kernel=\"poly\",C=5,max_iter=1000)\n",
    "svc.fit(X_train,y_train)\n",
    "ypred=svc.predict(X_test)\n",
    "from sklearn.metrics import classification_report,accuracy_score\n",
    "print (classification_report(y_test,ypred,digits=4))\n",
    "print (\"acc:\",accuracy_score(y_test,ypred))"
   ]
  },
  {
   "cell_type": "code",
   "execution_count": 161,
   "id": "c063893d",
   "metadata": {},
   "outputs": [
    {
     "ename": "SyntaxError",
     "evalue": "iterable argument unpacking follows keyword argument unpacking (Temp/ipykernel_21544/3766918366.py, line 1)",
     "output_type": "error",
     "traceback": [
      "\u001b[1;36m  File \u001b[1;32m\"C:\\Users\\Shenyou\\AppData\\Local\\Temp/ipykernel_21544/3766918366.py\"\u001b[1;36m, line \u001b[1;32m1\u001b[0m\n\u001b[1;33m    sklearn.metrics.accuracy_score(y_test, y_pred, *, normalize=True, sample_weight=None):\u001b[0m\n\u001b[1;37m                                                    ^\u001b[0m\n\u001b[1;31mSyntaxError\u001b[0m\u001b[1;31m:\u001b[0m iterable argument unpacking follows keyword argument unpacking\n"
     ]
    }
   ],
   "source": [
    "print(accuracy_score())"
   ]
  },
  {
   "cell_type": "code",
   "execution_count": 14,
   "id": "18a74c3a",
   "metadata": {},
   "outputs": [
    {
     "ename": "ValueError",
     "evalue": "multiclass format is not supported",
     "output_type": "error",
     "traceback": [
      "\u001b[1;31m---------------------------------------------------------------------------\u001b[0m",
      "\u001b[1;31mValueError\u001b[0m                                Traceback (most recent call last)",
      "\u001b[1;32m~\\AppData\\Local\\Temp/ipykernel_14472/602386598.py\u001b[0m in \u001b[0;36m<module>\u001b[1;34m\u001b[0m\n\u001b[0;32m      1\u001b[0m \u001b[1;32mfrom\u001b[0m \u001b[0msklearn\u001b[0m\u001b[1;33m.\u001b[0m\u001b[0mmetrics\u001b[0m \u001b[1;32mimport\u001b[0m \u001b[0mroc_curve\u001b[0m\u001b[1;33m,\u001b[0m \u001b[0mauc\u001b[0m\u001b[1;33m\u001b[0m\u001b[1;33m\u001b[0m\u001b[0m\n\u001b[0;32m      2\u001b[0m \u001b[0mtest_y_score\u001b[0m \u001b[1;33m=\u001b[0m \u001b[0msvc\u001b[0m\u001b[1;33m.\u001b[0m\u001b[0mdecision_function\u001b[0m\u001b[1;33m(\u001b[0m\u001b[0mX_test\u001b[0m\u001b[1;33m)\u001b[0m\u001b[1;33m\u001b[0m\u001b[1;33m\u001b[0m\u001b[0m\n\u001b[1;32m----> 3\u001b[1;33m \u001b[0mfpr\u001b[0m\u001b[1;33m,\u001b[0m \u001b[0mtpr\u001b[0m\u001b[1;33m,\u001b[0m \u001b[0mthreshold\u001b[0m \u001b[1;33m=\u001b[0m \u001b[0mroc_curve\u001b[0m\u001b[1;33m(\u001b[0m\u001b[0my_test\u001b[0m\u001b[1;33m,\u001b[0m \u001b[0mtest_y_score\u001b[0m\u001b[1;33m)\u001b[0m  \u001b[1;31m###计算真正率和假正率\u001b[0m\u001b[1;33m\u001b[0m\u001b[1;33m\u001b[0m\u001b[0m\n\u001b[0m\u001b[0;32m      4\u001b[0m \u001b[0mroc_auc\u001b[0m \u001b[1;33m=\u001b[0m \u001b[0mauc\u001b[0m\u001b[1;33m(\u001b[0m\u001b[0mfpr\u001b[0m\u001b[1;33m,\u001b[0m \u001b[0mtpr\u001b[0m\u001b[1;33m)\u001b[0m\u001b[1;33m\u001b[0m\u001b[1;33m\u001b[0m\u001b[0m\n",
      "\u001b[1;32mD:\\Anaconda\\lib\\site-packages\\sklearn\\utils\\validation.py\u001b[0m in \u001b[0;36minner_f\u001b[1;34m(*args, **kwargs)\u001b[0m\n\u001b[0;32m     61\u001b[0m             \u001b[0mextra_args\u001b[0m \u001b[1;33m=\u001b[0m \u001b[0mlen\u001b[0m\u001b[1;33m(\u001b[0m\u001b[0margs\u001b[0m\u001b[1;33m)\u001b[0m \u001b[1;33m-\u001b[0m \u001b[0mlen\u001b[0m\u001b[1;33m(\u001b[0m\u001b[0mall_args\u001b[0m\u001b[1;33m)\u001b[0m\u001b[1;33m\u001b[0m\u001b[1;33m\u001b[0m\u001b[0m\n\u001b[0;32m     62\u001b[0m             \u001b[1;32mif\u001b[0m \u001b[0mextra_args\u001b[0m \u001b[1;33m<=\u001b[0m \u001b[1;36m0\u001b[0m\u001b[1;33m:\u001b[0m\u001b[1;33m\u001b[0m\u001b[1;33m\u001b[0m\u001b[0m\n\u001b[1;32m---> 63\u001b[1;33m                 \u001b[1;32mreturn\u001b[0m \u001b[0mf\u001b[0m\u001b[1;33m(\u001b[0m\u001b[1;33m*\u001b[0m\u001b[0margs\u001b[0m\u001b[1;33m,\u001b[0m \u001b[1;33m**\u001b[0m\u001b[0mkwargs\u001b[0m\u001b[1;33m)\u001b[0m\u001b[1;33m\u001b[0m\u001b[1;33m\u001b[0m\u001b[0m\n\u001b[0m\u001b[0;32m     64\u001b[0m \u001b[1;33m\u001b[0m\u001b[0m\n\u001b[0;32m     65\u001b[0m             \u001b[1;31m# extra_args > 0\u001b[0m\u001b[1;33m\u001b[0m\u001b[1;33m\u001b[0m\u001b[0m\n",
      "\u001b[1;32mD:\\Anaconda\\lib\\site-packages\\sklearn\\metrics\\_ranking.py\u001b[0m in \u001b[0;36mroc_curve\u001b[1;34m(y_true, y_score, pos_label, sample_weight, drop_intermediate)\u001b[0m\n\u001b[0;32m    911\u001b[0m \u001b[1;33m\u001b[0m\u001b[0m\n\u001b[0;32m    912\u001b[0m     \"\"\"\n\u001b[1;32m--> 913\u001b[1;33m     fps, tps, thresholds = _binary_clf_curve(\n\u001b[0m\u001b[0;32m    914\u001b[0m         y_true, y_score, pos_label=pos_label, sample_weight=sample_weight)\n\u001b[0;32m    915\u001b[0m \u001b[1;33m\u001b[0m\u001b[0m\n",
      "\u001b[1;32mD:\\Anaconda\\lib\\site-packages\\sklearn\\metrics\\_ranking.py\u001b[0m in \u001b[0;36m_binary_clf_curve\u001b[1;34m(y_true, y_score, pos_label, sample_weight)\u001b[0m\n\u001b[0;32m    689\u001b[0m     if not (y_type == \"binary\" or\n\u001b[0;32m    690\u001b[0m             (y_type == \"multiclass\" and pos_label is not None)):\n\u001b[1;32m--> 691\u001b[1;33m         \u001b[1;32mraise\u001b[0m \u001b[0mValueError\u001b[0m\u001b[1;33m(\u001b[0m\u001b[1;34m\"{0} format is not supported\"\u001b[0m\u001b[1;33m.\u001b[0m\u001b[0mformat\u001b[0m\u001b[1;33m(\u001b[0m\u001b[0my_type\u001b[0m\u001b[1;33m)\u001b[0m\u001b[1;33m)\u001b[0m\u001b[1;33m\u001b[0m\u001b[1;33m\u001b[0m\u001b[0m\n\u001b[0m\u001b[0;32m    692\u001b[0m \u001b[1;33m\u001b[0m\u001b[0m\n\u001b[0;32m    693\u001b[0m     \u001b[0mcheck_consistent_length\u001b[0m\u001b[1;33m(\u001b[0m\u001b[0my_true\u001b[0m\u001b[1;33m,\u001b[0m \u001b[0my_score\u001b[0m\u001b[1;33m,\u001b[0m \u001b[0msample_weight\u001b[0m\u001b[1;33m)\u001b[0m\u001b[1;33m\u001b[0m\u001b[1;33m\u001b[0m\u001b[0m\n",
      "\u001b[1;31mValueError\u001b[0m: multiclass format is not supported"
     ]
    }
   ],
   "source": [
    "from sklearn.metrics import roc_curve, auc\n",
    "test_y_score = svc.decision_function(X_test)\n",
    "fpr, tpr, threshold = roc_curve(y_test, test_y_score)  ###计算真正率和假正率\n",
    "roc_auc = auc(fpr, tpr)"
   ]
  },
  {
   "cell_type": "markdown",
   "id": "3df5da9c",
   "metadata": {},
   "source": [
    "# bp"
   ]
  },
  {
   "cell_type": "code",
   "execution_count": 81,
   "id": "2abbb146",
   "metadata": {},
   "outputs": [],
   "source": [
    "from sklearn.neural_network import MLPClassifier"
   ]
  },
  {
   "cell_type": "code",
   "execution_count": 82,
   "id": "2e8f1a31",
   "metadata": {},
   "outputs": [],
   "source": [
    "bp=MLPClassifier(hidden_layer_sizes=(256,256))"
   ]
  },
  {
   "cell_type": "code",
   "execution_count": 83,
   "id": "b0734376",
   "metadata": {},
   "outputs": [
    {
     "name": "stdout",
     "output_type": "stream",
     "text": [
      "              precision    recall  f1-score   support\n",
      "\n",
      "           0     0.8500    0.9444    0.8947        18\n",
      "           1     0.8571    0.3529    0.5000        17\n",
      "           2     0.5714    0.9231    0.7059        13\n",
      "\n",
      "    accuracy                         0.7292        48\n",
      "   macro avg     0.7595    0.7402    0.7002        48\n",
      "weighted avg     0.7771    0.7292    0.7038        48\n",
      "\n",
      "acc: 0.7291666666666666\n"
     ]
    }
   ],
   "source": [
    "bp.fit(X_train,y_train)\n",
    "ypred=bp.predict(X_test)\n",
    "from sklearn.metrics import classification_report,accuracy_score\n",
    "print (classification_report(y_test,ypred,digits=4))\n",
    "print (\"acc:\",accuracy_score(y_test,ypred))"
   ]
  },
  {
   "cell_type": "code",
   "execution_count": 8,
   "id": "e4c0edf0",
   "metadata": {},
   "outputs": [],
   "source": [
    "from sklearn.svm import SVC"
   ]
  },
  {
   "cell_type": "code",
   "execution_count": 11,
   "id": "892d6884",
   "metadata": {},
   "outputs": [
    {
     "name": "stdout",
     "output_type": "stream",
     "text": [
      "              precision    recall  f1-score   support\n",
      "\n",
      "           0     0.8667    0.7222    0.7879        18\n",
      "           1     0.5517    0.9412    0.6957        17\n",
      "           2     0.7500    0.2308    0.3529        13\n",
      "\n",
      "    accuracy                         0.6667        48\n",
      "   macro avg     0.7228    0.6314    0.6122        48\n",
      "weighted avg     0.7235    0.6667    0.6374        48\n",
      "\n",
      "acc: 0.6666666666666666\n"
     ]
    }
   ],
   "source": [
    "svc=SVC(kernel=\"poly\",C=5,max_iter=1000)\n",
    "svc.fit(X_train,y_train)\n",
    "ypred=svc.predict(X_test)\n",
    "from sklearn.metrics import classification_report,accuracy_score\n",
    "print (classification_report(y_test,ypred,digits=4))\n",
    "print (\"acc:\",accuracy_score(y_test,ypred))"
   ]
  },
  {
   "cell_type": "code",
   "execution_count": null,
   "id": "49db01b2",
   "metadata": {},
   "outputs": [],
   "source": []
  }
 ],
 "metadata": {
  "kernelspec": {
   "display_name": "Python 3 (ipykernel)",
   "language": "python",
   "name": "python3"
  },
  "language_info": {
   "codemirror_mode": {
    "name": "ipython",
    "version": 3
   },
   "file_extension": ".py",
   "mimetype": "text/x-python",
   "name": "python",
   "nbconvert_exporter": "python",
   "pygments_lexer": "ipython3",
   "version": "3.9.7"
  },
  "toc": {
   "base_numbering": 1,
   "nav_menu": {},
   "number_sections": true,
   "sideBar": true,
   "skip_h1_title": false,
   "title_cell": "Table of Contents",
   "title_sidebar": "Contents",
   "toc_cell": false,
   "toc_position": {},
   "toc_section_display": true,
   "toc_window_display": false
  }
 },
 "nbformat": 4,
 "nbformat_minor": 5
}
